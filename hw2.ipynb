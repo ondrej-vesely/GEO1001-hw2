{
  "cells": [
    {
      "cell_type": "code",
      "source": [
        "import numpy as np\n",
        "import scipy\n",
        "import rasterio\n",
        "import matplotlib.pyplot as plt"
      ],
      "outputs": [],
      "execution_count": 1,
      "metadata": {
        "collapsed": true,
        "jupyter": {
          "source_hidden": false,
          "outputs_hidden": false
        },
        "nteract": {
          "transient": {
            "deleting": false
          }
        },
        "execution": {
          "iopub.status.busy": "2020-09-30T10:00:09.788Z",
          "iopub.execute_input": "2020-09-30T10:00:09.793Z",
          "shell.execute_reply": "2020-09-30T10:00:11.341Z",
          "iopub.status.idle": "2020-09-30T10:00:11.349Z"
        }
      }
    },
    {
      "cell_type": "code",
      "source": [
        "import os\n",
        "from collections import OrderedDict\n",
        "\n",
        "def load_jp2(path):\n",
        "  d = OrderedDict()\n",
        "  for file in os.listdir(path):\n",
        "    if file.endswith('.jp2'):\n",
        "      id = file.split('_')[2]\n",
        "      full_path = path + file\n",
        "      d[id] = ds = rasterio.open(full_path)\n",
        "      \n",
        "  return d      \n",
        "      \n",
        "r60m = load_jp2('./data/R60m/')\n",
        "r20m = load_jp2('./data/R20m/')\n",
        "r10m = load_jp2('./data/R10m/')"
      ],
      "outputs": [],
      "execution_count": 16,
      "metadata": {
        "collapsed": true,
        "jupyter": {
          "source_hidden": false,
          "outputs_hidden": false
        },
        "nteract": {
          "transient": {
            "deleting": false
          }
        },
        "execution": {
          "iopub.status.busy": "2020-09-30T10:16:34.159Z",
          "iopub.execute_input": "2020-09-30T10:16:34.162Z",
          "iopub.status.idle": "2020-09-30T10:16:34.303Z",
          "shell.execute_reply": "2020-09-30T10:16:34.298Z"
        }
      }
    },
    {
      "cell_type": "code",
      "source": [
        "len(r60m)"
      ],
      "outputs": [
        {
          "output_type": "execute_result",
          "execution_count": 17,
          "data": {
            "text/plain": "15"
          },
          "metadata": {}
        }
      ],
      "execution_count": 17,
      "metadata": {
        "collapsed": true,
        "jupyter": {
          "source_hidden": false,
          "outputs_hidden": false
        },
        "nteract": {
          "transient": {
            "deleting": false
          }
        },
        "execution": {
          "iopub.status.busy": "2020-09-30T10:39:20.289Z",
          "iopub.execute_input": "2020-09-30T10:39:20.293Z",
          "iopub.status.idle": "2020-09-30T10:39:20.306Z",
          "shell.execute_reply": "2020-09-30T10:39:20.309Z"
        }
      }
    },
    {
      "cell_type": "code",
      "source": [
        "for i, (band, data) in enumerate(r60m.items()):\n",
        "  ax = plt.subplot2grid((3,5), (i//5, i%5))\n",
        "  ax.imshow(data)\n",
        "  ax.set_title(band)\n",
        "      \n",
        "plt.tight_layout(pad=1.0)\n",
        "plt.show()\n"
      ],
      "outputs": [],
      "execution_count": null,
      "metadata": {
        "collapsed": true,
        "jupyter": {
          "source_hidden": false,
          "outputs_hidden": false
        },
        "nteract": {
          "transient": {
            "deleting": false
          }
        }
      }
    },
    {
      "cell_type": "code",
      "source": [
        "l = ['a', 'b', 'c']\n",
        "for index, letter in enumerate(l):\n",
        "  print(letter, index)\n"
      ],
      "outputs": [
        {
          "output_type": "stream",
          "name": "stdout",
          "text": [
            "a 0\n",
            "b 1\n",
            "c 2\n"
          ]
        }
      ],
      "execution_count": 21,
      "metadata": {
        "collapsed": true,
        "jupyter": {
          "source_hidden": false,
          "outputs_hidden": false
        },
        "nteract": {
          "transient": {
            "deleting": false
          }
        },
        "execution": {
          "iopub.status.busy": "2020-09-30T10:43:54.638Z",
          "iopub.execute_input": "2020-09-30T10:43:54.644Z",
          "iopub.status.idle": "2020-09-30T10:43:54.656Z",
          "shell.execute_reply": "2020-09-30T10:43:54.660Z"
        }
      }
    }
  ],
  "metadata": {
    "kernel_info": {
      "name": "python3"
    },
    "language_info": {
      "name": "python",
      "version": "3.8.3",
      "mimetype": "text/x-python",
      "codemirror_mode": {
        "name": "ipython",
        "version": 3
      },
      "pygments_lexer": "ipython3",
      "nbconvert_exporter": "python",
      "file_extension": ".py"
    },
    "kernelspec": {
      "argv": [
        "D:/dev/Anaconda3\\python.exe",
        "-m",
        "ipykernel_launcher",
        "-f",
        "{connection_file}"
      ],
      "display_name": "Python 3",
      "language": "python",
      "name": "python3"
    },
    "nteract": {
      "version": "0.25.0"
    }
  },
  "nbformat": 4,
  "nbformat_minor": 0
}