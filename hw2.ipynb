{
  "cells": [
    {
      "cell_type": "code",
      "source": [
        "import numpy as np\n",
        "import scipy\n",
        "import rasterio\n",
        "import matplotlib.pyplot as plt"
      ],
      "outputs": [],
      "execution_count": 1,
      "metadata": {
        "collapsed": true,
        "jupyter": {
          "source_hidden": false,
          "outputs_hidden": false
        },
        "nteract": {
          "transient": {
            "deleting": false
          }
        },
        "execution": {
          "iopub.status.busy": "2020-09-30T10:00:09.788Z",
          "iopub.execute_input": "2020-09-30T10:00:09.793Z",
          "shell.execute_reply": "2020-09-30T10:00:11.341Z",
          "iopub.status.idle": "2020-09-30T10:00:11.349Z"
        }
      }
    },
    {
      "cell_type": "code",
      "source": [
        "import os\n",
        "from collections import OrderedDict\n",
        "\n",
        "def load_jp2(path):\n",
        "  d = OrderedDict()\n",
        "  for file in os.listdir(path):\n",
        "    if file.endswith('.jp2'):\n",
        "      id = file.split('_')[2]\n",
        "      full_path = path + file\n",
        "      d[id] = ds = rasterio.open(full_path)\n",
        "      \n",
        "  return d      \n",
        "      \n",
        "r60m = load_jp2('./data/R60m/')\n",
        "r20m = load_jp2('./data/R20m/')\n",
        "r10m = load_jp2('./data/R10m/')"
      ],
      "outputs": [],
      "execution_count": 16,
      "metadata": {
        "collapsed": true,
        "jupyter": {
          "source_hidden": false,
          "outputs_hidden": false
        },
        "nteract": {
          "transient": {
            "deleting": false
          }
        },
        "execution": {
          "iopub.status.busy": "2020-09-30T10:16:34.159Z",
          "iopub.execute_input": "2020-09-30T10:16:34.162Z",
          "iopub.status.idle": "2020-09-30T10:16:34.303Z",
          "shell.execute_reply": "2020-09-30T10:16:34.298Z"
        }
      }
    },
    {
      "cell_type": "code",
      "source": [],
      "outputs": [
        {
          "output_type": "stream",
          "name": "stdout",
          "text": [
            "dict_keys(['AOT', 'B02', 'B03', 'B04', 'B08', 'TCI', 'WVP'])\n"
          ]
        }
      ],
      "execution_count": 13,
      "metadata": {
        "collapsed": true,
        "jupyter": {
          "source_hidden": false,
          "outputs_hidden": false
        },
        "nteract": {
          "transient": {
            "deleting": false
          }
        },
        "execution": {
          "iopub.status.busy": "2020-09-30T10:15:39.458Z",
          "iopub.execute_input": "2020-09-30T10:15:39.463Z",
          "iopub.status.idle": "2020-09-30T10:15:39.537Z",
          "shell.execute_reply": "2020-09-30T10:15:39.541Z"
        }
      }
    }
  ],
  "metadata": {
    "kernel_info": {
      "name": "python3"
    },
    "language_info": {
      "name": "python",
      "version": "3.8.3",
      "mimetype": "text/x-python",
      "codemirror_mode": {
        "name": "ipython",
        "version": 3
      },
      "pygments_lexer": "ipython3",
      "nbconvert_exporter": "python",
      "file_extension": ".py"
    },
    "kernelspec": {
      "argv": [
        "D:/dev/Anaconda3\\python.exe",
        "-m",
        "ipykernel_launcher",
        "-f",
        "{connection_file}"
      ],
      "display_name": "Python 3",
      "language": "python",
      "name": "python3"
    },
    "nteract": {
      "version": "0.25.0"
    }
  },
  "nbformat": 4,
  "nbformat_minor": 0
}